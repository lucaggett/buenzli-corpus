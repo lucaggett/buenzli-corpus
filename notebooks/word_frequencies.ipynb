{
 "cells": [
  {
   "cell_type": "code",
   "execution_count": 1,
   "metadata": {
    "collapsed": true,
    "ExecuteTime": {
     "end_time": "2023-06-16T18:02:28.596764Z",
     "start_time": "2023-06-16T18:02:28.586151Z"
    }
   },
   "outputs": [],
   "source": [
    "import os\n",
    "import xml.etree.ElementTree as ET\n",
    "from copy import copy"
   ]
  },
  {
   "cell_type": "code",
   "execution_count": 10,
   "outputs": [
    {
     "name": "stdout",
     "output_type": "stream",
     "text": [
      "wiki.xml\n",
      "schobinger.xml\n",
      "blick.xml\n",
      "swatch.xml\n",
      "blogs.xml\n"
     ]
    },
    {
     "data": {
      "text/plain": "[('.', 5046),\n (',', 4403),\n ('und', 2645),\n ('de', 1819),\n ('isch', 1691),\n ('vo', 1374),\n ('..', 1093),\n ('mit', 804),\n ('im', 724),\n ('d', 711),\n ('het', 642),\n ('wo', 638),\n ('dr', 634),\n ('in', 612),\n ('i', 603),\n ('uf', 574),\n (')', 572),\n ('sind', 571),\n ('d’', 571),\n ('(', 567),\n ('vom', 562),\n ('en', 536),\n ('es', 524),\n ('dä', 483),\n ('au', 468),\n ('am', 452),\n ('e', 450),\n ('gsi', 445),\n ('s', 428),\n ('das', 418),\n ('die', 404),\n ('em', 404),\n (':', 402),\n ('so', 402),\n ('er', 394),\n ('«', 378),\n ('»', 376),\n ('ich', 368),\n ('für', 365),\n ('hät', 363),\n ('aber', 326),\n ('sich', 316),\n ('zum', 308),\n ('hend', 300),\n ('di', 295),\n ('vu', 268),\n ('da', 268),\n ('us', 266),\n ('\"', 266),\n ('si', 263),\n ('a', 260),\n ('nöd', 259),\n ('–', 256),\n ('wie', 252),\n ('den', 245),\n ('bi', 232),\n ('mer', 232),\n ('scho', 229),\n ('als', 227),\n ('no', 223),\n ('D’', 222),\n ('...', 219),\n ('z’', 218),\n ('vor', 205),\n ('me', 205),\n ('worde', 204),\n ('!', 203),\n ('der', 202),\n ('oder', 201),\n ('u', 199),\n (\"d'\", 197),\n ('han', 193),\n ('2012', 192),\n ('?', 183),\n ('z', 183),\n ('sie', 180),\n ('Swatch', 180),\n ('wird', 172),\n ('mir', 171),\n ('hed', 160),\n ('na', 158),\n (\"'\", 155),\n ('denn', 155),\n ('ned', 149),\n ('zu', 147),\n ('De', 145),\n ('s’', 144),\n ('bis', 142),\n ('gha', 141),\n ('Und', 141),\n ('händ', 140),\n ('ganz', 140),\n ('ja', 139),\n ('echt', 138),\n ('det', 133),\n ('wordä', 131),\n ('nur', 129),\n ('eifach', 125),\n (\"s'\", 124),\n ('ä', 123),\n ('bin', 120),\n ('nach', 119),\n ('Ich', 119),\n ('über', 117),\n ('ihri', 117),\n ('-', 117),\n ('Ääschme', 115),\n ('wider', 110),\n ('was', 110),\n ('Tag', 109),\n ('eus', 109),\n (';', 107),\n ('dass', 106),\n ('ond', 106),\n (':)', 106),\n ('Si', 101),\n ('immer', 100),\n ('D', 100),\n ('sehr', 99),\n ('ide', 99),\n ('dur', 98),\n ('go', 98),\n ('mal', 98),\n ('•', 97),\n ('Das', 97),\n ('vode', 96),\n ('Aber', 96),\n ('meh', 95),\n ('Group', 95),\n ('dem', 94),\n ('um', 92),\n ('Es', 89),\n ('Jahr', 88),\n ('diä', 88),\n ('Im', 88),\n ('cha', 86),\n ('grad', 86),\n ('sini', 84),\n ('simer', 84),\n ('gmacht', 83),\n ('do', 83),\n (';)', 83),\n (\"z'\", 82),\n ('hani', 81),\n ('an', 80),\n ('zur', 80),\n ('bim', 79),\n ('alles', 79),\n ('ha', 79),\n ('S’', 79),\n ('mich', 78),\n ('ds', 77),\n ('Omega', 77),\n ('doch', 76),\n ('will', 74),\n ('is', 74),\n ('all', 74),\n ('Hotel', 73),\n ('Longines', 73),\n ('hemer', 73),\n ('[', 72),\n (']', 72),\n ('vil', 72),\n ('jetzt', 72),\n ('Er', 72),\n ('‹', 71),\n ('›', 71),\n ('mache', 70),\n ('ändere', 70),\n ('kei', 70),\n ('guet', 70),\n ('Am', 70),\n ('hei', 68),\n ('nid', 68),\n ('cho', 68),\n ('mini', 68),\n ('Breguet', 68),\n ('Kollektion', 68),\n ('paar', 67),\n ('gsii', 66),\n ('gange', 66),\n ('chöne', 65),\n ('I', 64),\n ('häd', 63),\n ('Me', 63),\n ('Sie', 63),\n ('ere', 61),\n ('ab', 61),\n ('Johr', 61),\n ('Ziit', 61),\n ('Lüt', 61),\n ('1', 60),\n ('of', 60),\n ('chli', 59),\n ('Uhr', 59),\n ('Blancpain', 59),\n ('andere', 58),\n ('hett', 58),\n ('Die', 58),\n ('2', 57),\n ('sit', 57),\n ('vum', 57),\n ('as', 57),\n ('mitem', 57),\n ('nie', 57),\n ('Rado', 57),\n ('däm', 56),\n ('New', 56),\n ('mi', 56),\n ('esch', 55),\n ('3', 55),\n ('sech', 55),\n ('wärde', 55),\n ('sii', 55),\n ('Markä', 55),\n ('Mit', 54),\n ('wenn', 54),\n ('wieder', 54),\n ('dere', 53),\n ('dene', 53),\n ('S', 52),\n ('zwei', 51),\n ('dänn', 51),\n ('chan', 50),\n ('neui', 50),\n ('Marke', 50),\n ('aa', 49),\n ('hüt', 49),\n ('neue', 49),\n ('eme', 49),\n ('Diä', 49),\n ('vude', 49),\n ('hets', 48),\n ('ine', 48),\n ('macht', 48),\n ('Chind', 48),\n ('Di', 48),\n ('halt', 47),\n ('anderi', 47),\n ('erschte', 47),\n ('id', 47),\n ('gseh', 47),\n ('mues', 47),\n ('bini', 46),\n ('för', 45),\n ('gseit', 45),\n ('Dä', 45),\n ('hätt', 45),\n ('noed', 45),\n ('git', 44),\n ('lang', 44),\n ('sicher', 44),\n ('Der', 44),\n ('Schwiiz', 43),\n ('schön', 43),\n ('Name', 43),\n ('grosse', 43),\n ('Wuche', 43),\n ('won', 42),\n ('gits', 42),\n ('chunt', 42),\n ('Produkt', 42),\n ('Jahrhundert', 42),\n ('womer', 42),\n ('alli', 41),\n ('äs', 41),\n ('Schuel', 41),\n ('also', 41),\n ('fascht', 41),\n ('!!', 41),\n ('sin', 40),\n ('Stadt', 40),\n ('isches', 40),\n ('jede', 40),\n ('ihrem', 40),\n ('woni', 40),\n ('Tissot', 40),\n ('Marggä', 40),\n ('werde', 39),\n ('Teil', 39),\n ('viel', 39),\n ('York', 39),\n ('ihres', 39),\n ('Dialäkt', 38),\n ('allem', 38),\n ('&', 38),\n ('ganze', 38),\n ('aus', 38),\n ('met', 38),\n ('weiss', 38),\n ('aso', 38),\n ('mega', 38),\n ('dye', 38),\n ('öppe', 37),\n ('während', 37),\n ('eim', 37),\n ('Wält', 37),\n ('öppis', 37),\n ('säge', 37),\n ('seit', 37),\n ('abr', 37),\n ('China', 37),\n ('min', 37),\n ('drum', 35),\n ('ufem', 35),\n ('◦', 35),\n ('Stund', 35),\n ('chönne', 35),\n ('o', 35),\n ('the', 35),\n ('gfahre', 35),\n ('dank', 35),\n ('Glashütte', 35),\n ('=)', 35),\n ('ali', 35),\n ('zue', 34),\n ('Obig', 34),\n ('ohni', 34),\n ('zimli', 34),\n ('gliich', 34),\n ('Für', 34),\n ('Fall', 34),\n ('wär', 33),\n ('erschti', 33),\n ('drü', 33),\n ('letschte', 33),\n ('Boutique', 33),\n ('uu', 33),\n ('jez', 33),\n ('richtig', 32),\n ('öpe', 32),\n ('under', 32),\n ('usem', 32),\n ('zeigt', 32),\n ('Kanton', 31),\n ('Joor', 31),\n ('sowie', 31),\n ('Lüüt', 31),\n ('zerscht', 31),\n ('zäme', 31),\n ('denkt', 31),\n ('San', 31),\n ('Aarau', 30),\n ('heisst', 30),\n ('5', 30),\n ('witer', 30),\n ('Gott', 30),\n ('wil', 30),\n ('vonere', 30),\n ('gfunde', 30),\n ('ume', 30),\n ('hends', 30),\n ('wänn', 30),\n ('nüüt', 30),\n ('En', 30),\n ('Uf', 30),\n ('Bi', 30),\n ('Mir', 30),\n ('öpis', 30),\n ('Wachstum', 30),\n ('är', 29),\n ('Bezirk', 29),\n ('Züri', 29),\n ('ghört', 29),\n ('biz', 29),\n ('recht', 29),\n ('wele', 29),\n ('jaa', 29),\n ('mim', 29),\n ('voll', 29),\n ('wiedr', 29),\n ('Gschicht', 28),\n ('ane', 28),\n ('Europa', 28),\n ('chund', 28),\n ('sim', 28),\n ('Läbe', 28),\n ('allne', 28),\n ('Tradition', 28),\n ('vomene', 28),\n ('Frau', 28),\n ('gad', 28),\n ('2013', 28),\n ('Was', 28),\n ('So', 28),\n ('Auto', 28),\n ('luege', 28),\n ('Strand', 28),\n ('zwar', 27),\n ('Schwiizer', 27),\n ('use', 27),\n ('iri', 27),\n ('gar', 27),\n ('Geburtstag', 27),\n ('Modell', 27),\n ('super', 27),\n ('Ds', 27),\n ('chinesische', 27),\n ('The', 27),\n ('chönnä', 27),\n ('ne', 26),\n ('4', 26),\n ('än', 26),\n ('noch', 26),\n ('rund', 26),\n ('Land', 26),\n ('Wasser', 26),\n ('müend', 26),\n ('chunnt', 26),\n ('Art', 26),\n ('allerdings', 26),\n ('weniger', 26),\n ('ir', 26),\n ('ihre', 26),\n ('chömed', 26),\n ('imer', 26),\n ('Isch', 26),\n ('Kaliber', 26),\n ('lanciert', 26),\n ('Design', 26),\n ('gross', 25),\n ('10', 25),\n ('leider', 25),\n ('send', 25),\n ('alte', 25),\n ('dure', 25),\n ('Sache', 25),\n ('dra', 25),\n ('siim', 25),\n ('ou', 25),\n ('eis', 25),\n ('Nacht', 25),\n ('vilicht', 25),\n ('gueti', 25),\n ('werded', 25),\n ('chönd', 25),\n ('Le', 25),\n ('Kaländer', 25),\n ('London', 25),\n ('Aargau', 24),\n ('Bade', 24),\n ('Juni', 24),\n ('wiiter', 24),\n ('17.', 24),\n ('wos', 24),\n ('Erfolg', 24),\n ('ah', 24),\n ('Frankriich', 24),\n ('passiert', 24),\n ('glaub', 24),\n ('toll', 24),\n ('ihrere', 24),\n ('froh', 24),\n ('mis', 24),\n ('Ziffereblatt', 24),\n ('Manufaktur', 24),\n ('and', 24),\n ('nöiiä', 24),\n ('vodä', 24),\n ('imene', 23),\n ('wott', 23),\n ('alemannische', 23),\n ('bald', 23),\n ('Morge', 23),\n ('von', 23),\n ('Mal', 23),\n ('geh', 23),\n ('Gruppe', 23),\n ('Will', 23),\n ('vill', 23),\n ('inere', 23),\n ('siin', 23),\n ('Lütnand', 23),\n ('Ääschmen', 23),\n ('ebe', 23),\n ('Monet', 23),\n ('Huus', 23),\n ('eine', 23),\n ('Eröffnig', 23),\n ('Presänz', 23),\n ('Jaquet', 23),\n ('Droz', 23),\n ('Marka', 23),\n ('Aline', 23),\n ('weg', 22),\n ('Bus', 22),\n ('brucht', 22),\n ('nüt', 22),\n ('eusi', 22),\n ('sondern', 22),\n ('sis', 22),\n ('sogar', 22),\n ('Gschäft', 22),\n ('sine', 22),\n ('Scheff', 22),\n ('dezue', 22),\n ('Welt', 22),\n ('A', 22),\n ('Da', 22),\n ('Dr', 22),\n ('Eleganz', 22),\n ('Hongkong', 22),\n ('Modäu', 22),\n ('haha', 22),\n ('nächste', 22),\n ('Taxi', 22),\n ('Houston', 22),\n ('wi', 21),\n ('drei', 21),\n ('nume', 21),\n ('zwöi', 21),\n ('erreicht', 21),\n ('äm', 21),\n ('nüme', 21),\n ('Italie', 21),\n ('besser', 21),\n ('mitenand', 21),\n ('Zit', 21),\n ('demit', 21),\n ('Vo', 21),\n ('andersch', 21),\n ('Ergäbnis', 21),\n ('gfiiret', 21),\n ('worda', 21),\n ('Brichtsjahr', 21),\n ('odr', 21),\n ('immr', 21),\n ('Han', 21),\n ('-.-', 21),\n ('Familie', 20),\n ('6', 20),\n ('fasch', 20),\n ('grossi', 20),\n ('hän', 20),\n ('fir', 20),\n ('dases', 20),\n ('2011', 20),\n ('unter', 20),\n ('Bärndütsch', 20),\n ('Jack', 20),\n ('nu', 20),\n ('selber', 20),\n ('zrugg', 20),\n ('Jaar', 20),\n ('Em', 20),\n ('Tokter', 20),\n ('Au', 20),\n ('In', 20),\n ('je', 20),\n ('Woche', 20),\n ('Kreation', 20),\n ('Minute', 20),\n ('wärdä', 20),\n ('eröffnet', 20),\n ('esse', 20),\n ('suscht', 20),\n ('Miami', 20),\n ('Blick', 19),\n ('sinere', 19),\n ('Ändi', 19),\n ('sy', 19),\n ('druf', 19),\n ('Meer', 19),\n ('erscht', 19),\n ('Hand', 19),\n ('abe', 19),\n ('ai', 19),\n ('z.', 19),\n ('Schtaat', 19),\n ('30', 19),\n ('beidi', 19),\n ('dür', 19),\n ('acho', 19),\n ('Als', 19),\n ('Nach', 19),\n ('E', 19),\n ('Hèr', 19),\n ('seg', 19),\n ('nöii', 19),\n ('gmeint', 19),\n ('dete', 19),\n ('SWATCH', 19),\n ('gah', 19),\n ('schoen', 19),\n ('Thailand', 19),\n ('1.', 18),\n ('Ort', 18),\n ('Basel', 18),\n ('vier', 18),\n ('20', 18),\n ('kenne', 18),\n ('du', 18),\n ('Insle', 18),\n ('ca.', 18),\n ('Bärn', 18),\n ('Maa', 18),\n ('Bilder', 18),\n ('Wort', 18),\n ('ihm', 18),\n ('Schtund', 18),\n ('säit', 18),\n ('Grad', 18),\n ('letscht', 18),\n ('nüm', 18),\n ('Trends', 18),\n ('Olympische', 18),\n (\"D'\", 18),\n ('beide', 17),\n ('Wikipedia', 17),\n ('freie', 17),\n ('ade', 17),\n ('eigentlich', 17),\n ('neu', 17),\n ('Siite', 17),\n ('erste', 17),\n ('Länder', 17),\n ('Zyt', 17),\n ('nei', 17),\n ('Form', 17),\n ('emene', 17),\n ('ihrer', 17),\n ('offizielli', 17),\n ('Spiil', 17),\n ('B.', 17),\n ('Film', 17),\n ('uuf', 17),\n ('ander', 17),\n ('hinder', 17),\n ('Entwicklig', 17),\n ('Afang', 17),\n ('gönd', 17),\n ('übrigens', 17),\n ('Schluss', 17),\n ('Zum', 17),\n ('mached', 17),\n ('Wie', 17),\n ('Den', 17),\n ('Abig', 17),\n ('morn', 17),\n ('wiä', 17),\n ('Schwiz', 17),\n ('gseht', 17),\n ('präsentiert', 17),\n ('Daniela', 17),\n ('sowiä', 17),\n ('Villeret', 17),\n ('Collection', 17),\n ('Flughafe', 17),\n ('ines', 17),\n ('freu', 17),\n ('natürli', 17),\n ('simmr', 17),\n ('love', 17),\n ('Bin', 17),\n ('müse', 17),\n ('Chile', 16),\n ('suech', 16),\n ('7', 16),\n ('zwüsche', 16),\n ('sälber', 16),\n ('söll', 16),\n ('muess', 16),\n ('Wäg', 16),\n ('ein', 16),\n ('Büro', 16),\n ('%', 16),\n ('nachem', 16),\n ('Wörter', 16),\n ('uus', 16),\n ('/', 16),\n ('la', 16),\n ('fürs', 16),\n ('Göttin', 16),\n ('nämli', 16),\n ('Paris', 16),\n ('drmit', 16),\n ('Musig', 16),\n ('ihrne', 16),\n ('Schobinger', 16),\n ('dèm', 16),\n ('Drum', 16),\n ('Auge', 16),\n ('wììrt', 16),\n ('Gsicht', 16),\n ('neus', 16),\n ('üs', 16),\n ('Museum', 16),\n ('minere', 16),\n ('Bereich', 16),\n ('Balmain', 16),\n ('derä', 16),\n ('Usstellig', 16),\n ('Original', 16),\n ('fortgsetzt', 16),\n ('Las', 16),\n ('Vegas', 16),\n ('ish', 16),\n ('ciao', 16),\n ('Foeteli', 16),\n ('Luet', 16),\n ('Huufe', 16),\n ('durch', 15),\n ('tuet', 15),\n ('schwiizer', 15),\n ('Dialäkt-enzyklopedy', 15),\n ('hops', 15),\n ('Navigation', 15),\n ('Km', 15),\n ('Gmeind', 15),\n ('gäh', 15),\n ('gsee', 15),\n ('Mai', 15),\n ('schöne', 15),\n ('zudem', 15),\n ('Saison', 15),\n ('denä', 15),\n ('verschiedeni', 15),\n ('gschafft', 15),\n ('woner', 15),\n ('keis', 15),\n ('gäge', 15),\n ('ez', 15),\n ('Buech', 15),\n ('wenig', 15),\n ('Idee', 15),\n ('Asie', 15),\n ('Viktor', 15),\n ('daa', 15),\n ('soo', 15),\n ('gaat', 15),\n ('halbi', 15),\n ('Chopf', 15),\n ('Wèètli', 15),\n ('Samschtig', 15),\n ('Spass', 15),\n ('ihrnä', 15),\n ('mein', 15),\n ('Restaurant', 15),\n ('Schanghai', 15),\n ('Präsenz', 15),\n ('Tourbillon', 15),\n ('Uhrä', 15),\n ('Del', 15),\n ('gern', 15),\n ('<3', 15),\n ('herzig', 15),\n (':-)', 15),\n ('simmer', 15),\n ('eigentli', 15),\n ('?!?', 15),\n ('un', 14),\n ('anders', 14),\n ('ghaa', 14),\n ('Händ', 14),\n ('mehreri', 14),\n ('zwüsched', 14),\n ('M', 14),\n ('chlini', 14),\n ('Dütschland', 14),\n ('euse', 14),\n ('ihne', 14),\n ('’', 14),\n ('Klass', 14),\n ('gege', 14),\n ('bruucht', 14),\n ('Usa', 14),\n ('Verlauf', 14),\n ('pro', 14),\n ('Macht', 14),\n ('Mitti', 14),\n ('vorallem', 14),\n ('Club', 14),\n ('jedes', 14),\n ('schaffe', 14),\n ('findet', 14),\n ('europäische', 14),\n ('Union', 14),\n ('Fox', 14),\n ('genau', 14),\n ('Turner', 14),\n ('Elisabeth', 14),\n ('Herrscher', 14),\n ('wenns', 14),\n ('chamer', 14),\n ('debi', 14),\n ('zude', 14),\n ('gwüsst', 14),\n ('ales', 14),\n ('Bild', 14),\n ('xi', 14),\n ('blibe', 14),\n ('Täg', 14),\n ('tänkt', 14),\n ('blos', 14),\n ('wäiss', 14),\n ('zumene', 14),\n ('ghöört', 14),\n ('lueget', 14),\n ('Mer', 14),\n ('Bis', 14),\n ('wies', 14),\n ('ob', 14),\n ('Föteli', 14),\n ('Abteilig', 14),\n ('Dank', 14),\n ('Ghüüs', 14),\n ('Microelectronic', 14),\n ('Francisco', 14),\n ('Bar', 14),\n ('you', 14),\n ('cool', 14),\n ('wieso', 14),\n ('Zimmer', 14),\n ('$', 14),\n ('Allerdings', 14),\n ('liit', 13),\n ('devo', 13),\n ('churz', 13),\n ('eini', 13),\n ('Chrieg', 13),\n ('Dääg', 13),\n ('jedi', 13),\n ('Projekt', 13),\n ('Möhli', 13),\n ('Schwyz', 13),\n ('Fraue', 13),\n ('fertig', 13),\n ('mängisch', 13),\n ('hèt', 13),\n ('ischs', 13),\n ('„', 13),\n ('“', 13),\n ('verbunde', 13),\n ('übere', 13),\n ('got', 13),\n ('ebefalls', 13),\n ('Genf', 13),\n ('agfange', 13),\n ('ganzi', 13),\n ('statt', 13),\n ('bringt', 13),\n ('prägt', 13),\n ('bsungers', 13),\n ('Ruum', 13),\n ('Bärndütsche', 13),\n ('Eragon', 13),\n ('15', 13),\n ('gschribe', 13),\n ('Sinn', 13),\n ('Alemane', 13),\n ('chline', 13),\n ('wiit', 13),\n ('Abnoba', 13),\n ('mitere', 13),\n ('for', 13),\n ('wemer', 13),\n ('drüü', 13),\n ('schriibe', 13),\n ('schnell', 13),\n ('choo', 13),\n ('Niederlande', 13),\n ('naa', 13),\n ('nööd', 13),\n ('wett', 13),\n ('epaar', 13),\n ('mäint', 13),\n ('Sach', 13),\n ('rächt', 13),\n ('wüsse', 13),\n ('etz', 13),\n ('Grã-scheff', 13),\n ('Rüttimaa', 13),\n ('irgendwie', 13),\n ('Glück', 13),\n ('fahre', 13),\n ('Gfühl', 13),\n ('Nina', 13),\n ('Cup', 13),\n ('Denn', 13),\n ('Tennis', 13),\n ('imne', 13),\n ('Lancierig', 13),\n ('Peking', 13),\n ('verzeichnet', 13),\n ('Edition', 13),\n ('Uhrwärk', 13),\n ('EM', 13),\n ('World', 13),\n ('Märkt', 13),\n ('Farbä', 13),\n ('Chronograph', 13),\n ('Flik', 13),\n ('Flak', 13),\n ('Integration', 13),\n ('chennä', 13),\n ('Flug', 13),\n ('eu', 13),\n ('Namitag', 13),\n ('soooo', 13),\n ('euch', 13),\n ('Park', 13),\n ('nachher', 13),\n ('Höt', 13),\n ('guete', 12),\n ('Är', 12),\n ('Website', 12),\n ('technische', 12),\n ('Titel', 12),\n ('Inhaltsverzeichnis', 12),\n ('Unternähme', 12),\n ('25', 12),\n ('Halt', 12),\n ('direkt', 12),\n ('bekannt', 12),\n ('basiert', 12),\n ('uff', 12),\n ('Do', 12),\n ('spöter', 12),\n ('Regierig', 12),\n ('ass', 12),\n ('Oktober', 12),\n ('dört', 12),\n ('mee', 12),\n ('wer', 12),\n ('well', 12),\n ('Achter', 12),\n ('Grund', 12),\n ('obe', 12),\n ('schwer', 12),\n ('ver', 12),\n ('meischte', 12),\n ('organisiert', 12),\n ('Liebi', 12),\n ('Produktion', 12),\n ('öpper', 12),\n ('treit', 12),\n ('Black', 12),\n ('fangt', 12),\n ('schlächt', 12),\n ('langsam', 12),\n ('müese', 12),\n ('Näme', 12),\n ('sinds', 12),\n ('wiederum', 12),\n ('Iisatz', 12),\n ('wän', 12),\n ('dèè', 12),\n ('Haar', 12),\n ('chönt', 12),\n ('Füessli', 12),\n ('Wääg', 12),\n ('Täitäi', 12),\n ('Also', 12),\n ('jedem', 12),\n ('Koffer', 12),\n ('schöni', 12),\n ('häts', 12),\n ('momentan', 12),\n ('Thomas', 12),\n ('it', 12),\n ('niemer', 12),\n ('Thema', 12),\n ('eh', 12),\n ('Moment', 12),\n ('Ja', 12),\n ('Lebe', 12),\n ('Kommunikation', 12),\n ('euses', 12),\n ('Grande', 12),\n ('ergänzt', 12),\n ('Uhre', 12),\n ('Square', 12),\n ('Seamaster', 12),\n ('Mido', 12),\n ('ck', 12),\n ('neua', 12),\n ('usserdem', 12),\n ('Queens', 12),\n ('Ziitmässer', 12),\n ('erschtä', 12),\n ('nachr', 12),\n ('chani', 12),\n ('Barbados', 12),\n ('Subway', 12),\n ('Playa', 12),\n ('Nachher', 12),\n ('xD', 12),\n ('LA', 12),\n ('vili', 11),\n ('Ebeni', 11),\n ('würd', 11),\n ('Mönet', 11),\n ('woorde', 11),\n ('dor', 11),\n ('wäge', 11),\n ('ame', 11),\n ('öber', 11),\n ('zo', 11),\n ('Netz', 11),\n ('Endi', 11),\n ...]"
     },
     "execution_count": 10,
     "metadata": {},
     "output_type": "execute_result"
    }
   ],
   "source": [
    "# get all files in path\n",
    "files = (file for file in os.listdir(\"../NOAH-Corpus\") if file.endswith(\".xml\"))\n",
    "# create dictionary for words and their frequencies\n",
    "words = {}\n",
    "\n",
    "# iterate through files\n",
    "for file in files:\n",
    "    # parse xml file\n",
    "    print(file)\n",
    "    tree = ET.parse(open(\"../NOAH-Corpus/\" + file, \"r\", encoding=\"utf-8\"))\n",
    "    # get root element\n",
    "    root = tree.getroot()\n",
    "    # iterate through all text elements\n",
    "    for article in root.iter(\"document\"):\n",
    "        for sent in article.iter(\"s\"):\n",
    "            for word_element in sent.iter(\"w\"):\n",
    "                # get word\n",
    "                word = word_element.text\n",
    "                # if word is not in dictionary, add it\n",
    "                if word not in words:\n",
    "                    words[word_element] = 1\n",
    "                # else increment frequency\n",
    "                else:\n",
    "                    words[word_element] += 1\n",
    "\n",
    "\n",
    "sorted(words.items(), key=lambda x: x[1], reverse=True)\n",
    "NOAH_frequencies = copy(words)\n",
    "del words"
   ],
   "metadata": {
    "collapsed": false,
    "ExecuteTime": {
     "end_time": "2023-06-16T18:07:09.091992Z",
     "start_time": "2023-06-16T18:07:08.831087Z"
    }
   }
  },
  {
   "cell_type": "code",
   "execution_count": 14,
   "outputs": [
    {
     "name": "stdout",
     "output_type": "stream",
     "text": [
      "5.176436154773465\n"
     ]
    },
    {
     "data": {
      "text/plain": "[('und', 21197),\n ('isch', 18917),\n ('de', 17210),\n ('das', 15846),\n ('es', 11269),\n ('die', 10940),\n ('aber', 10045),\n ('ich', 9433),\n ('i', 9038),\n ('au', 8884),\n ('so', 8701),\n ('wo', 8695),\n ('d', 7945),\n ('vo', 7800),\n ('', 7623),\n ('mit', 7364),\n ('en', 6580),\n ('du', 6410),\n ('dass', 5948),\n ('für', 5931),\n ('e', 5922),\n ('nid', 5753),\n ('im', 5519),\n ('uf', 5517),\n ('nöd', 5400),\n ('mer', 5350),\n ('no', 5232),\n ('was', 5061),\n ('wie', 5059),\n ('ja', 5011),\n ('in', 4870),\n ('oder', 4848),\n ('ned', 4623),\n ('scho', 4609),\n ('als', 4416),\n ('sind', 4243),\n ('wenn', 4241),\n ('bi', 3887),\n ('z', 3862),\n ('s', 3830),\n ('eifach', 3790),\n ('da', 3780),\n ('het', 3743),\n ('sich', 3694),\n ('nur', 3492),\n ('denn', 3428),\n ('mir', 3310),\n ('zum', 3225),\n ('am', 3186),\n ('si', 3165),\n ('der', 3107),\n ('sie', 3043),\n ('dr', 2892),\n ('ha', 2859),\n ('a', 2783),\n ('di', 2619),\n ('kei', 2505),\n ('mal', 2500),\n ('me', 2448),\n ('immer', 2393),\n ('zu', 2319),\n ('meh', 2297),\n ('dem', 2253),\n ('doch', 2206),\n ('dä', 2154),\n ('vom', 2135),\n ('er', 2117),\n ('wird', 2020),\n ('han', 2017),\n ('us', 1968),\n ('jetzt', 1921),\n ('grad', 1858),\n ('halt', 1836),\n ('lüt', 1811),\n ('ganz', 1801),\n ('esch', 1777),\n ('-', 1766),\n ('hesch', 1762),\n ('vor', 1754),\n ('mi', 1709),\n ('hend', 1682),\n ('will', 1671),\n ('jo', 1649),\n ('über', 1581),\n ('also', 1534),\n ('ond', 1496),\n ('guet', 1495),\n ('the', 1482),\n ('cha', 1475),\n ('u', 1472),\n ('ds', 1434),\n ('um', 1426),\n ('chli', 1413),\n ('alli', 1405),\n ('bin', 1390),\n ('hani', 1384),\n ('em', 1383),\n ('alles', 1373),\n ('wär', 1347),\n ('do', 1337)]"
     },
     "execution_count": 14,
     "metadata": {},
     "output_type": "execute_result"
    }
   ],
   "source": [
    "from collections import Counter\n",
    "import json\n",
    "\n",
    "with open(\"../scripts/comments.json\", \"r\", encoding=\"utf-8\") as f:\n",
    "    comments = json.load(f)\n",
    "\n",
    "word_frequencies = {}\n",
    "for comment in comments:\n",
    "    sentence = comment[\"body\"]\n",
    "    for word in sentence.split(\" \"):\n",
    "        word = word.lower()\n",
    "        if word not in word_frequencies:\n",
    "            word_frequencies[word] = 1\n",
    "        else:\n",
    "            word_frequencies[word] += 1\n",
    "\n",
    "total_words = sum(word_frequencies.values())\n",
    "\n",
    "average_word_length = sum(len(word) * freq for word, freq in word_frequencies.items()) / total_words\n",
    "\n",
    "\n",
    "\n",
    "print(average_word_length, sep=\"\\n\")\n",
    "\n",
    "\n",
    "sorted(word_frequencies.items(), key=lambda x: x[1], reverse=True)[:100]"
   ],
   "metadata": {
    "collapsed": false,
    "ExecuteTime": {
     "end_time": "2023-07-03T14:23:21.583277Z",
     "start_time": "2023-07-03T14:23:21.252825Z"
    }
   }
  }
 ],
 "metadata": {
  "kernelspec": {
   "display_name": "Python 3",
   "language": "python",
   "name": "python3"
  },
  "language_info": {
   "codemirror_mode": {
    "name": "ipython",
    "version": 2
   },
   "file_extension": ".py",
   "mimetype": "text/x-python",
   "name": "python",
   "nbconvert_exporter": "python",
   "pygments_lexer": "ipython2",
   "version": "2.7.6"
  }
 },
 "nbformat": 4,
 "nbformat_minor": 0
}
